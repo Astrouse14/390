{
 "cells": [
  {
   "cell_type": "code",
   "execution_count": 13,
   "metadata": {},
   "outputs": [],
   "source": [
    "import math\n",
    "import matplotlib.pyplot as plt\n",
    "import numpy as np"
   ]
  },
  {
   "cell_type": "code",
   "execution_count": 14,
   "metadata": {},
   "outputs": [],
   "source": [
    "VARIABLES = [\n",
    "    ['BASS_P',0.001,0.003,0.005],\n",
    "    ['BASS_Q',0.3,0.5,0.7],\n",
    "    ['GROWTH',0.003,0.007,0.009],\n",
    "    ['MILES',3000000,3130509,3200000],\n",
    "    ['REG_RATIO',0.009,0.01054142011,0.011],\n",
    "    ['AV_FRACTION',0.09,0.1,0.15]\n",
    "]"
   ]
  },
  {
   "cell_type": "code",
   "execution_count": 15,
   "metadata": {},
   "outputs": [],
   "source": [
    "def BassModel(p, q, t):\n",
    "\ta = q/p\n",
    "\tb = p+q\n",
    "\tx = math.exp(-1 * b * t)\n",
    "\ty = 1 + a * x\n",
    "\tbass = (b ** 2 * x) / (p * y ** 2)\n",
    "\treturn bass\n",
    "\n",
    "def GetFatalities(input_vars):\n",
    "\tp_var = input_vars[0]\n",
    "\tq_var = input_vars[1]\n",
    "\tgrowth_var = input_vars[2]\n",
    "\tmiles_var = [input_vars[3]]\n",
    "\tratio_var = input_vars[4]\n",
    "\tfraction_var = input_vars[5]\n",
    "\tnew = [0]\n",
    "\tavmiles = [0]\n",
    "\tregmiles = [(miles_var[0] - avmiles[0])]\n",
    "\ti = 0\n",
    "\twhile i < 30:\n",
    "\t\tmiles_var.append(miles_var[i]*(1 + growth_var))\n",
    "\t\ti = i + 1\n",
    "\t\tnew.append(BassModel(p_var, q_var, i))\n",
    "\t\tcumulative = np.sum(new)\n",
    "\t\tavmiles.append(cumulative * miles_var[i])\n",
    "\t\tregmiles.append(miles_var[i] - avmiles[i])\n",
    "\ttotaldeaths = np.sum(regmiles)*ratio_var + np.sum(avmiles)*ratio_var*fraction_var\n",
    "\treturn int(totaldeaths)\n",
    "\n",
    "def GetOrdered(matrix):\n",
    "\torder = []\n",
    "\tfor each in matrix:\n",
    "\t\torder.append(each[3])\n",
    "\tarray = np.asarray(order)\n",
    "\ttemp = array.argsort()\n",
    "\tranks = np.arange(len(array))[temp.argsort()]\n",
    "\tw, h = 4, len(VARIABLES)\n",
    "\tomatrix = [[0 for x in range(w)] for y in range(h)]\n",
    "\tsize = len(ranks)-1\n",
    "\ti = 0\n",
    "\tfor each in ranks:\n",
    "\t\tomatrix[(size-each)] = matrix[i]\n",
    "\t\ti = i + 1\n",
    "\treturn omatrix\n",
    "\n",
    "\n",
    "def PlotTornado(matrix, base):\n",
    "\tvalues = []\n",
    "\tfor each in matrix:\n",
    "\t\tvalues.append(each[3])\n",
    "\tlows = []\n",
    "\tfor each in matrix:\n",
    "\t\tlows.append(each[1])\n",
    "\tvariables=[]\n",
    "\tfor each in matrix:\n",
    "\t\tvariables.append(each[0])\n",
    "\tys = range(len(values))[::-1]  # top to bottom\n",
    "\t# Plot the bars, one by one\n",
    "\tfor y, low, value in zip(ys, lows, values):\n",
    "\t\t# The width of the 'low' and 'high' pieces\n",
    "\t\tlow_width = base - low\n",
    "\t\thigh_width = low + value - base\n",
    "\t\t# Each bar is a \"broken\" horizontal bar chart\n",
    "\t\tplt.broken_barh(\n",
    "\t\t\t[(low, low_width), (base, high_width)],\n",
    "\t\t\t(y - 0.4, 0.8),\n",
    "\t\t\tfacecolors=['white', 'white'],  # Try different colors if you like\n",
    "\t\t\tedgecolors=['black', 'black'],\n",
    "\t\t\tlinewidth=1,\n",
    "\t\t)\n",
    "\t\t# Display the value as text. It should be positioned in the center of\n",
    "\t\t# the 'high' bar, except if there isn't any room there, then it should be\n",
    "\t\t# next to bar instead.\n",
    "\t\tx = base + high_width / 2\n",
    "\t\tif x <= base + 50:\n",
    "\t\t\tx = base + high_width + 50\n",
    "\t\tplt.text(x, y, str(value), va='center', ha='center')\n",
    "\t# Draw a vertical line down the middle\n",
    "\tplt.axvline(base, color='black')\n",
    "\t# Position the x-axis on the top, hide all the other spines (=axis lines)\n",
    "\taxes = plt.gca()  # (gca = get current axes)\n",
    "\taxes.spines['left'].set_visible(False)\n",
    "\taxes.spines['right'].set_visible(False)\n",
    "\taxes.spines['bottom'].set_visible(False)\n",
    "\taxes.xaxis.set_ticks_position('top')\n",
    "\tplt.yticks(ys, variables) # Make the y-axis display the variables\n",
    "\t# Set the portion of the x- and y-axes to show\n",
    "\tscale = 1.1*max((lows[0]+values[0]-base), (base-lows[0]))\n",
    "\tplt.xlim(base - scale, base + scale)\n",
    "\tplt.ylim(-1, len(variables))\n",
    "\n",
    "\n",
    "\n"
   ]
  },
  {
   "cell_type": "code",
   "execution_count": 16,
   "metadata": {},
   "outputs": [
    {
     "data": {
      "image/png": "[encoded data removed]",
      "text/plain": [
       "<Figure size 432x288 with 1 Axes>"
      ]
     },
     "metadata": {
      "needs_background": "light"
     },
     "output_type": "display_data"
    }
   ],
   "source": [
    "mean_vals = [VARIABLES[0][2], VARIABLES[1][2],\n",
    "    VARIABLES[2][2], VARIABLES[3][2], VARIABLES[4][2],\n",
    "    VARIABLES[5][2]]\n",
    "mean_deaths = GetFatalities(mean_vals)\n",
    "w, h = 4, len(VARIABLES)\n",
    "Matrix = [[0 for x in range(w)] for y in range(h)]\n",
    "i = 0\n",
    "while i < len(VARIABLES):\n",
    "    Matrix[i][0]=VARIABLES[i][0]\n",
    "    model_vals = list(mean_vals)\n",
    "    model_vals[i] = VARIABLES[i][1]\n",
    "    boundary_one=GetFatalities(model_vals)\n",
    "    model_vals = list(mean_vals)\n",
    "    model_vals[i] = VARIABLES[i][3]\n",
    "    boundary_two=GetFatalities(model_vals)\n",
    "    if boundary_one>boundary_two:\n",
    "        Matrix[i][1] = boundary_two\n",
    "        Matrix[i][2] = boundary_one\n",
    "        Matrix[i][3]=boundary_one - boundary_two\n",
    "    else:\n",
    "        Matrix[i][1] = boundary_one\n",
    "        Matrix[i][2] = boundary_two\n",
    "        Matrix[i][3]=boundary_two - boundary_one\n",
    "    i = i+1\n",
    "ordered_matrix = GetOrdered(Matrix)\n",
    "PlotTornado(ordered_matrix, mean_deaths)\n",
    "plt.show()\n",
    "# adding this on 6 march 2018 to test git sync\n",
    "\n"
   ]
  },
  {
   "cell_type": "code",
   "execution_count": null,
   "metadata": {},
   "outputs": [],
   "source": []
  },
  {
   "cell_type": "code",
   "execution_count": null,
   "metadata": {},
   "outputs": [],
   "source": []
  }
 ],
 "metadata": {
  "kernelspec": {
   "display_name": "Python 3",
   "language": "python",
   "name": "python3"
  },
  "language_info": {
   "codemirror_mode": {
    "name": "ipython",
    "version": 3
   },
   "file_extension": ".py",
   "mimetype": "text/x-python",
   "name": "python",
   "nbconvert_exporter": "python",
   "pygments_lexer": "ipython3",
   "version": "3.8.3"
  }
 },
 "nbformat": 4,
 "nbformat_minor": 2
}
