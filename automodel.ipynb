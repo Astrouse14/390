{
 "cells": [
  {
   "cell_type": "markdown",
   "metadata": {},
   "source": [
    "This code will look at the diffusion of autonomous vehicle travel and how it affects vehicle deaths"
   ]
  },
  {
   "cell_type": "code",
   "execution_count": 6,
   "metadata": {},
   "outputs": [],
   "source": [
    "# import the proper libraries\n",
    "import math\n",
    "import matplotlib.pyplot as plt\n",
    "import numpy"
   ]
  },
  {
   "cell_type": "code",
   "execution_count": 7,
   "metadata": {},
   "outputs": [],
   "source": [
    "# define the paramaters of the Bass Model\n",
    "BASS_P = 0.003 # p parameter for Bass model\n",
    "BASS_Q = 0.7 # q parameter for Bass model\n",
    "GROWTH = 0.007 # growth of the number of miles travelled\n",
    "MILES = 3130509 # millions of miles travelled from DOT\n",
    "REG_RATIO = 0.01054142011 # number of fatalities with regular miles travelled\n",
    "AV_FRACTION = 0.1 # the percentage of the ratio with automous vehicles"
   ]
  },
  {
   "cell_type": "code",
   "execution_count": 11,
   "metadata": {},
   "outputs": [],
   "source": [
    "# the general bass model function\n",
    "def bass_model(p, q, t):\n",
    "\t\"\"\"\n",
    "\tThis is the generic Bass model that takes p, q, and computes\n",
    "\tthe end result at time t periods from now\n",
    "\t\"\"\"\n",
    "\ta = q/p\n",
    "\tb = p+q\n",
    "\tx = math.exp(-1 * b * t)\n",
    "\ty = 1 + a * x\n",
    "\tbass = (b ** 2 * x) / (p * y ** 2)\n",
    "\treturn bass"
   ]
  },
  {
   "cell_type": "code",
   "execution_count": 9,
   "metadata": {},
   "outputs": [],
   "source": [
    "# thidef main():\n",
    "\t\"\"\"\n",
    "\tThe main script of the program.\n",
    "\t\"\"\"\n",
    "\ti = 0\n",
    "\tmiles = [MILES]\n",
    "\tnew = [0]\n",
    "\tavmiles = [0]\n",
    "\tregmiles = [(MILES - 1)]\n",
    "\twhile i < 30:\n",
    "\t\tmiles.append(miles[i]*(1 + GROWTH))\n",
    "\t\ti = i + 1\n",
    "\t\tnew.append(bass_model(BASS_P, BASS_Q, i))\n",
    "\t\tcumulative = numpy.sum(new)\n",
    "\t\tavmiles.append(cumulative * miles[i])\n",
    "\t\tregmiles.append(miles[i] - avmiles[i])\n",
    "\ttotaldeaths = numpy.sum(regmiles)*REG_RATIO + numpy.sum(avmiles)*REG_RATIO*AV_FRACTION\n",
    "\tprint (int(totaldeaths))"
   ]
  },
  {
   "cell_type": "code",
   "execution_count": 10,
   "metadata": {},
   "outputs": [
    {
     "name": "stdout",
     "output_type": "stream",
     "text": [
      "353304\n"
     ]
    }
   ],
   "source": [
    "if __name__ == \"__main__\":\n",
    "\tmain()"
   ]
  },
  {
   "cell_type": "code",
   "execution_count": null,
   "metadata": {},
   "outputs": [],
   "source": []
  }
 ],
 "metadata": {
  "kernelspec": {
   "display_name": "Python 3",
   "language": "python",
   "name": "python3"
  },
  "language_info": {
   "codemirror_mode": {
    "name": "ipython",
    "version": 3
   },
   "file_extension": ".py",
   "mimetype": "text/x-python",
   "name": "python",
   "nbconvert_exporter": "python",
   "pygments_lexer": "ipython3",
   "version": "3.6.5"
  }
 },
 "nbformat": 4,
 "nbformat_minor": 2
}
