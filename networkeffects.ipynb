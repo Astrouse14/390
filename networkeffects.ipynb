{
 "cells": [
  {
   "cell_type": "code",
   "execution_count": 15,
   "metadata": {
    "colab": {},
    "colab_type": "code",
    "id": "ucvT3f2Dq5p9"
   },
   "outputs": [],
   "source": [
    "# here are the libraries to import\n",
    "import numpy as np\n",
    "from matplotlib import pyplot"
   ]
  },
  {
   "cell_type": "code",
   "execution_count": 16,
   "metadata": {
    "colab": {},
    "colab_type": "code",
    "id": "x0nLBvubr0fj"
   },
   "outputs": [],
   "source": [
    "# vector of prices for round t\n",
    "PRICES = [10, 10, 10, 10, 10, 10, 10, 10, 10, 10, 10]\n",
    "PBAR = (np.mean(PRICES))\n",
    "\n",
    "# the vector of network sizes for round t-1\n",
    "CUSTOMERS = [5, 100, 150, 200, 250, 300, 350, 400, 450, 550, 615]"
   ]
  },
  {
   "cell_type": "code",
   "execution_count": 21,
   "metadata": {
    "colab": {},
    "colab_type": "code",
    "id": "a3-hSfCFr3GZ"
   },
   "outputs": [],
   "source": [
    "# get the new customer data based on current state\n",
    "\n",
    "\n",
    "def new_cust(currentcust):\n",
    "    nbar = (np.mean(customers))\n",
    "    index = 0\n",
    "    attractiveness = []\n",
    "    while index <= 10:\n",
    "        priceeffect = max((1-((PRICES[index]-PBAR)/PBAR)),0.1)\n",
    "        networkeffect = (customers[index]/nbar)**2\n",
    "        attractiveness.append(priceeffect*networkeffect)\n",
    "        index = index + 1\n",
    "    abar = (np.mean(attractiveness))\n",
    "    index = 0\n",
    "    newcustomers = []\n",
    "    while index <= 10:\n",
    "        newcust = customers[index] + 100*(attractiveness[index]/abar)\n",
    "        newcustomers.append(newcust)\n",
    "        index = index + 1\n",
    "    return newcustomers\n"
   ]
  },
  {
   "cell_type": "code",
   "execution_count": 22,
   "metadata": {
    "colab": {},
    "colab_type": "code",
    "id": "-75UD9LnwoPF"
   },
   "outputs": [],
   "source": [
    "plot_data = []\n",
    "\n",
    "customers = CUSTOMERS\n",
    "\n",
    "for step in range(10):\n",
    "    newcustomers = new_cust(customers)\n",
    "    plot_data.append(np.array(newcustomers).flatten())\n",
    "    customers = newcustomers\n",
    "    # plot_data.append(np.array(result).flatten())\n",
    "    "
   ]
  },
  {
   "cell_type": "code",
   "execution_count": 23,
   "metadata": {
    "colab": {
     "base_uri": "https://localhost:8080/",
     "height": 269
    },
    "colab_type": "code",
    "id": "_uvfuNgiuUG8",
    "outputId": "7da1e0f6-9905-48f0-87e1-db55f9a78b34"
   },
   "outputs": [
    {
     "data": {
      "image/png": "[encoded data removed]",
      "text/plain": [
       "<Figure size 432x288 with 1 Axes>"
      ]
     },
     "metadata": {
      "needs_background": "light"
     },
     "output_type": "display_data"
    }
   ],
   "source": [
    "# Convert the data format\n",
    "plot_data = np.array(plot_data)\n",
    "\n",
    "# Create the plot\n",
    "pyplot.figure(1)\n",
    "pyplot.ylabel('Customers')\n",
    "lines = []\n",
    "for i, shape in zip(range(10), ['x', 'h', 'H', 's', '8', 'r+', '.', ',', 'o', 'v']):\n",
    "    letter = chr(ord('A') + i)\n",
    "    line, = pyplot.plot(plot_data[:, i], shape, label=letter)\n",
    "    lines.append(line)\n",
    "pyplot.legend(handles=lines, loc=1)\n",
    "pyplot.show()"
   ]
  },
  {
   "cell_type": "code",
   "execution_count": 0,
   "metadata": {
    "colab": {},
    "colab_type": "code",
    "id": "qCt2Eje32xma"
   },
   "outputs": [],
   "source": []
  }
 ],
 "metadata": {
  "colab": {
   "name": "networkeffects.ipynb",
   "provenance": []
  },
  "kernelspec": {
   "display_name": "Python 3",
   "language": "python",
   "name": "python3"
  },
  "language_info": {
   "codemirror_mode": {
    "name": "ipython",
    "version": 3
   },
   "file_extension": ".py",
   "mimetype": "text/x-python",
   "name": "python",
   "nbconvert_exporter": "python",
   "pygments_lexer": "ipython3",
   "version": "3.8.3"
  }
 },
 "nbformat": 4,
 "nbformat_minor": 1
}
