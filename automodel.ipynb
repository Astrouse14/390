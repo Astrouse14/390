{
 "cells": [
  {
   "cell_type": "markdown",
   "metadata": {},
   "source": [
    "This code will look at the diffusion of autonomous vehicle travel and how it affects vehicle deaths"
   ]
  },
  {
   "cell_type": "code",
   "execution_count": 14,
   "metadata": {},
   "outputs": [],
   "source": [
    "# import the proper libraries\n",
    "import math\n",
    "import matplotlib.pyplot as plt\n",
    "import numpy"
   ]
  },
  {
   "cell_type": "code",
   "execution_count": 15,
   "metadata": {},
   "outputs": [],
   "source": [
    "# define the paramaters of the Bass Model\n",
    "BASS_P = 0.003 # p parameter for Bass model\n",
    "BASS_Q = 0.7 # q parameter for Bass model\n",
    "GROWTH = 0.007 # growth of the number of miles travelled\n",
    "MILES = 3130509 # millions of miles travelled from DOT\n",
    "REG_RATIO = 0.01054142011 # number of fatalities with regular miles travelled\n",
    "AV_FRACTION = 0.1 # the percentage of the ratio with automous vehicles"
   ]
  },
  {
   "cell_type": "code",
   "execution_count": 16,
   "metadata": {},
   "outputs": [],
   "source": [
    "# the general bass model function\n",
    "def bass_model(p, q, t):\n",
    "    \"\"\"\n",
    "    This is the generic Bass model that takes p, q, and computes\n",
    "    the end result at time t periods from now\n",
    "    \"\"\"\n",
    "    a = q/p\n",
    "    b = p+q\n",
    "    x = math.exp(-1 * b * t)\n",
    "    y = 1 + a * x\n",
    "    bass = (b ** 2 * x) / (p * y ** 2)\n",
    "    return bass"
   ]
  },
  {
   "cell_type": "code",
   "execution_count": 17,
   "metadata": {},
   "outputs": [
    {
     "name": "stdout",
     "output_type": "stream",
     "text": [
      "353304\n"
     ]
    }
   ],
   "source": [
    "# The main script of the program.\n",
    "i = 0\n",
    "miles = [MILES]\n",
    "new = [0]\n",
    "avmiles = [0]\n",
    "regmiles = [(MILES - 1)]\n",
    "while i < 30:\n",
    "    miles.append(miles[i]*(1 + GROWTH))\n",
    "    i = i + 1\n",
    "    new.append(bass_model(BASS_P, BASS_Q, i))\n",
    "    cumulative = numpy.sum(new)\n",
    "    avmiles.append(cumulative * miles[i])\n",
    "    regmiles.append(miles[i] - avmiles[i])\n",
    "totaldeaths = numpy.sum(regmiles)*REG_RATIO + numpy.sum(avmiles)*REG_RATIO*AV_FRACTION\n",
    "print (int(totaldeaths))"
   ]
  },
  {
   "cell_type": "code",
   "execution_count": null,
   "metadata": {},
   "outputs": [],
   "source": []
  }
 ],
 "metadata": {
  "kernelspec": {
   "display_name": "Python 3",
   "language": "python",
   "name": "python3"
  },
  "language_info": {
   "codemirror_mode": {
    "name": "ipython",
    "version": 3
   },
   "file_extension": ".py",
   "mimetype": "text/x-python",
   "name": "python",
   "nbconvert_exporter": "python",
   "pygments_lexer": "ipython3",
   "version": "3.8.3"
  }
 },
 "nbformat": 4,
 "nbformat_minor": 2
}
