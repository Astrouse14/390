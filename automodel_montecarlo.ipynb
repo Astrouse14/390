{
 "cells": [
  {
   "cell_type": "code",
   "execution_count": 20,
   "metadata": {},
   "outputs": [],
   "source": [
    "import math\n",
    "import matplotlib.pyplot as plt\n",
    "import numpy as np\n",
    "import pandas as pd"
   ]
  },
  {
   "cell_type": "code",
   "execution_count": 21,
   "metadata": {},
   "outputs": [],
   "source": [
    "VARIABLES = [ # this array is set up to take variable name, mean, and sigma\n",
    "\t['BASS_P',0.003,0.001],\n",
    "\t['BASS_Q',0.5,0.1],\n",
    "\t['GROWTH',0.007,0.001],\n",
    "\t['MILES',3130509,100000],\n",
    "\t['REG_RATIO',0.01054142011,0.001],\n",
    "\t['AV_FRACTION',0.1,0.02]\n",
    "]"
   ]
  },
  {
   "cell_type": "code",
   "execution_count": 22,
   "metadata": {},
   "outputs": [],
   "source": [
    "\n",
    "def bass_model(p, q, t):\n",
    "\t\"\"\"\n",
    "\tThis is the generic Bass model that takes p, q, and computes\n",
    "\tthe end result at time t periods from now\n",
    "\t\"\"\"\n",
    "\ta = q/p\n",
    "\tb = p+q\n",
    "\tx = math.exp(-1 * b * t)\n",
    "\ty = 1 + a * x\n",
    "\tbass = (b ** 2 * x) / (p * y ** 2)\n",
    "\treturn bass\n",
    "\n",
    "def get_fatalities(input_vars):\n",
    "\t\"\"\"\n",
    "\tThis model gets the number of fatalities\n",
    "\t\"\"\"\n",
    "\tp_var = input_vars[0]\n",
    "\tq_var = input_vars[1]\n",
    "\tgrowth_var = input_vars[2]\n",
    "\tmiles_var = [input_vars[3]]\n",
    "\tratio_var = input_vars[4]\n",
    "\tfraction_var = input_vars[5]\n",
    "\tnew = [0]\n",
    "\tavmiles = [0]\n",
    "\tregmiles = [(miles_var[0] - avmiles[0])]\n",
    "\ti = 0\n",
    "\twhile i < 30:\n",
    "\t\tmiles_var.append(miles_var[i]*(1 + growth_var))\n",
    "\t\ti = i + 1\n",
    "\t\tnew.append(bass_model(p_var, q_var, i))\n",
    "\t\tcumulative = np.sum(new)\n",
    "\t\tavmiles.append(cumulative * miles_var[i])\n",
    "\t\tregmiles.append(miles_var[i] - avmiles[i])\n",
    "\ttotaldeaths = np.sum(regmiles)*ratio_var + np.sum(avmiles)*ratio_var*fraction_var\n",
    "\treturn int(totaldeaths)\n"
   ]
  },
  {
   "cell_type": "code",
   "execution_count": 23,
   "metadata": {},
   "outputs": [
    {
     "data": {
      "image/png": "[encoded data removed]",
      "text/plain": [
       "<Figure size 432x288 with 1 Axes>"
      ]
     },
     "metadata": {
      "needs_background": "light"
     },
     "output_type": "display_data"
    }
   ],
   "source": [
    "\"\"\"\n",
    "The main script of the program.\n",
    "\"\"\"\n",
    "mean_vals = [VARIABLES[0][1], VARIABLES[1][1],\n",
    "    VARIABLES[2][1], VARIABLES[3][1], VARIABLES[4][1],\n",
    "    VARIABLES[5][1]]\n",
    "sigma_vals = [VARIABLES[0][2], VARIABLES[1][2],\n",
    "    VARIABLES[2][2], VARIABLES[3][2], VARIABLES[4][2],\n",
    "    VARIABLES[5][2]]\n",
    "results = []\n",
    "i = 0\n",
    "while i < 100:\n",
    "    random_vals = []\n",
    "    j = 0\n",
    "    while j<=5:\n",
    "        random_vals.append(np.random.normal(mean_vals[j],sigma_vals[j],1))\n",
    "        j = j+1\n",
    "    results.append(get_fatalities(random_vals))\n",
    "    i = i+1\n",
    "mean_result = np.mean(results)\n",
    "stdev_result = np.std(results)\n",
    "filtered_results = []\n",
    "for each in results:\n",
    "    if each > mean_result - (4 * stdev_result) and each < mean_result + (4 * stdev_result):\n",
    "        filtered_results.append(each)\n",
    "plt.hist(filtered_results)\n",
    "plt.show()\n",
    "\n"
   ]
  },
  {
   "cell_type": "code",
   "execution_count": 24,
   "metadata": {},
   "outputs": [],
   "source": [
    "df = pd.DataFrame(filtered_results, columns=['fatalities'])"
   ]
  },
  {
   "cell_type": "code",
   "execution_count": 25,
   "metadata": {},
   "outputs": [
    {
     "data": {
      "text/plain": [
       "<matplotlib.axes._subplots.AxesSubplot at 0x7fc72b66d910>"
      ]
     },
     "execution_count": 25,
     "metadata": {},
     "output_type": "execute_result"
    },
    {
     "data": {
      "image/png": "[encoded data removed]",
      "text/plain": [
       "<Figure size 432x288 with 1 Axes>"
      ]
     },
     "metadata": {
      "needs_background": "light"
     },
     "output_type": "display_data"
    }
   ],
   "source": [
    "df.plot.kde()"
   ]
  },
  {
   "cell_type": "code",
   "execution_count": null,
   "metadata": {},
   "outputs": [],
   "source": []
  }
 ],
 "metadata": {
  "kernelspec": {
   "display_name": "Python 3",
   "language": "python",
   "name": "python3"
  },
  "language_info": {
   "codemirror_mode": {
    "name": "ipython",
    "version": 3
   },
   "file_extension": ".py",
   "mimetype": "text/x-python",
   "name": "python",
   "nbconvert_exporter": "python",
   "pygments_lexer": "ipython3",
   "version": "3.8.3"
  }
 },
 "nbformat": 4,
 "nbformat_minor": 2
}
