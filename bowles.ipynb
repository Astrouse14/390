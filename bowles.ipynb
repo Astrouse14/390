{
 "cells": [
  {
   "cell_type": "code",
   "execution_count": null,
   "metadata": {},
   "outputs": [],
   "source": [
    "import pandas as pd\n",
    "import numpy as np\n",
    "import matplotlib.pyplot as plt"
   ]
  },
  {
   "cell_type": "code",
   "execution_count": null,
   "metadata": {},
   "outputs": [],
   "source": [
    "df = pd.read_csv(\"~/Desktop/machines.csv\")"
   ]
  },
  {
   "cell_type": "code",
   "execution_count": null,
   "metadata": {},
   "outputs": [],
   "source": [
    "MACHINE_COST=250000\n",
    "MACHINE_SALVAGE = 100000\n",
    "MACHINE_CAPACITY=25000\n",
    "REJECT_COST=1\n",
    "PRICE=2"
   ]
  },
  {
   "cell_type": "code",
   "execution_count": null,
   "metadata": {},
   "outputs": [],
   "source": [
    "df['balance'] = \"\"\n",
    "df.iloc[0,df.columns.get_loc('balance')] = 10000"
   ]
  },
  {
   "cell_type": "code",
   "execution_count": null,
   "metadata": {},
   "outputs": [],
   "source": [
    "def ProductionRun(df):\n",
    "    previous_machines=df.iloc[0,df.columns.get_loc('machines')]\n",
    "    previous_balance=df.iloc[0,df.columns.get_loc('balance')]\n",
    "    for index, row in df.iterrows():\n",
    "        costs = (row['machines'] - previous_machines)*MACHINE_COST\n",
    "        capacity = row['machines']*MACHINE_CAPACITY  \n",
    "        orders = (1000+np.random.uniform(0,2000))*row['week']\n",
    "        if orders > capacity:\n",
    "            costs = costs + (orders-capacity)*REJECT_COST\n",
    "            revenue = capacity * PRICE\n",
    "        else:\n",
    "            revenue = orders * PRICE\n",
    "        balance = previous_balance+revenue-costs\n",
    "        df.iloc[index, df.columns.get_loc('balance')] = balance\n",
    "        previous_balance = balance\n",
    "        previous_machines = row['machines']\n",
    "        if balance < 0:\n",
    "            break\n",
    "\n",
    "    if previous_balance>0:\n",
    "        salvage = previous_machines*MACHINE_SALVAGE\n",
    "        return (previous_balance + salvage)\n",
    "    else:\n",
    "        return 0\n",
    "        "
   ]
  },
  {
   "cell_type": "code",
   "execution_count": null,
   "metadata": {},
   "outputs": [],
   "source": [
    "# here we will go through just one iteration of the model\n",
    "\n",
    "final_balance = ProductionRun(df)\n",
    "if final_balance == 0:\n",
    "    print(\"you went bankrupt\")\n",
    "else:\n",
    "    print(\"Final balance:  ${:0,.0f}\".format(final_balance))"
   ]
  },
  {
   "cell_type": "code",
   "execution_count": null,
   "metadata": {},
   "outputs": [],
   "source": [
    "# now let's go through the model many times and draw a distribution\n",
    "# of the outcomes\n",
    "\n",
    "results=[]\n",
    "i = 0\n",
    "\n",
    "while i < 10:\n",
    "    results.append(ProductionRun(df))\n",
    "    i = i + 1\n",
    "\n",
    "s = pd.Series(results)\n",
    "s.plot.kde()"
   ]
  },
  {
   "cell_type": "code",
   "execution_count": null,
   "metadata": {},
   "outputs": [],
   "source": []
  }
 ],
 "metadata": {
  "kernelspec": {
   "display_name": "Python 3",
   "language": "python",
   "name": "python3"
  },
  "language_info": {
   "codemirror_mode": {
    "name": "ipython",
    "version": 3
   },
   "file_extension": ".py",
   "mimetype": "text/x-python",
   "name": "python",
   "nbconvert_exporter": "python",
   "pygments_lexer": "ipython3",
   "version": "3.8.3"
  }
 },
 "nbformat": 4,
 "nbformat_minor": 4
}
