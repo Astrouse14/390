{
  "nbformat": 4,
  "nbformat_minor": 0,
  "metadata": {
    "colab": {
      "name": "networkeffects.ipynb",
      "provenance": []
    },
    "kernelspec": {
      "name": "python3",
      "display_name": "Python 3"
    }
  },
  "cells": [
    {
      "cell_type": "code",
      "metadata": {
        "id": "ucvT3f2Dq5p9",
        "colab_type": "code",
        "colab": {}
      },
      "source": [
        "# here are the libraries to import\n",
        "import numpy as np\n",
        "from matplotlib import pyplot"
      ],
      "execution_count": 0,
      "outputs": []
    },
    {
      "cell_type": "code",
      "metadata": {
        "id": "x0nLBvubr0fj",
        "colab_type": "code",
        "colab": {}
      },
      "source": [
        "# vector of prices for round t\n",
        "PRICES = [10, 10, 10, 10, 10, 10, 10, 10, 10, 10, 10]\n",
        "PBAR = (np.mean(prices))\n",
        "\n",
        "# the vector of network sizes for round t-1\n",
        "CUSTOMERS = [5, 100, 150, 200, 250, 300, 350, 400, 450, 550, 615]"
      ],
      "execution_count": 0,
      "outputs": []
    },
    {
      "cell_type": "code",
      "metadata": {
        "id": "a3-hSfCFr3GZ",
        "colab_type": "code",
        "colab": {}
      },
      "source": [
        "# get the new customer data based on current state\n",
        "\n",
        "\n",
        "def new_cust(currentcust):\n",
        "  nbar = (np.mean(customers))\n",
        "\n",
        "  index = 0\n",
        "  attractiveness = []\n",
        "  while index <= 10:\n",
        "    priceeffect = max((1-((prices[index]-pbar)/pbar)),0.1)\n",
        "    networkeffect = (customers[index]/nbar)**2\n",
        "    attractiveness.append(priceeffect*networkeffect)\n",
        "    index = index + 1\n",
        "\n",
        "  abar = (np.mean(attractiveness))\n",
        "\n",
        "  index = 0\n",
        "  newcustomers = []\n",
        "  while index <= 10:\n",
        "    newcust = customers[index] + 100*(attractiveness[index]/abar)\n",
        "    newcustomers.append(newcust)\n",
        "    index = index + 1\n",
        "\n",
        "  return newcustomers\n"
      ],
      "execution_count": 0,
      "outputs": []
    },
    {
      "cell_type": "code",
      "metadata": {
        "id": "-75UD9LnwoPF",
        "colab_type": "code",
        "colab": {}
      },
      "source": [
        "plot_data = []\n",
        "\n",
        "customers = CUSTOMERS\n",
        "\n",
        "for step in range(10):\n",
        "    newcustomers = new_cust(customers)\n",
        "    plot_data.append(np.array(newcustomers).flatten())\n",
        "    customers = newcustomers\n",
        "    # plot_data.append(np.array(result).flatten())\n",
        "    "
      ],
      "execution_count": 0,
      "outputs": []
    },
    {
      "cell_type": "code",
      "metadata": {
        "id": "_uvfuNgiuUG8",
        "colab_type": "code",
        "colab": {
          "base_uri": "https://localhost:8080/",
          "height": 269
        },
        "outputId": "7da1e0f6-9905-48f0-87e1-db55f9a78b34"
      },
      "source": [
        "# Convert the data format\n",
        "plot_data = np.array(plot_data)\n",
        "\n",
        "# Create the plot\n",
        "pyplot.figure(1)\n",
        "pyplot.ylabel('Customers')\n",
        "lines = []\n",
        "for i, shape in zip(range(10), ['x', 'h', 'H', 's', '8', 'r+', '.', ',', 'o', 'v']):\n",
        "    letter = chr(ord('A') + i)\n",
        "    line, = pyplot.plot(plot_data[:, i], shape, label=letter)\n",
        "    lines.append(line)\n",
        "pyplot.legend(handles=lines, loc=1)\n",
        "pyplot.show()"
      ],
      "execution_count": 83,
      "outputs": [
        {
          "output_type": "display_data",
          "data": {
            "image/png": "[encoded data removed]",
            "text/plain": [
              "<Figure size 432x288 with 1 Axes>"
            ]
          },
          "metadata": {
            "tags": []
          }
        }
      ]
    },
    {
      "cell_type": "code",
      "metadata": {
        "id": "qCt2Eje32xma",
        "colab_type": "code",
        "colab": {}
      },
      "source": [
        ""
      ],
      "execution_count": 0,
      "outputs": []
    }
  ]
}