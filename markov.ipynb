{
 "cells": [
  {
   "cell_type": "markdown",
   "metadata": {},
   "source": [
    "Drawing a graph of the changes in state based on a Markov Chain"
   ]
  },
  {
   "cell_type": "code",
   "execution_count": 7,
   "metadata": {},
   "outputs": [],
   "source": [
    "# here are the libraries to import\n",
    "import numpy as np\n",
    "from matplotlib import pyplot"
   ]
  },
  {
   "cell_type": "code",
   "execution_count": 8,
   "metadata": {},
   "outputs": [],
   "source": [
    "# The statespace\n",
    "states = [\"A\",\"B\",\"C\"]\n",
    "\n",
    "# Possible sequences of events\n",
    "transitionName = [[\"AA\",\"AB\",\"AC\"],[\"BA\",\"BB\",\"BC\"],[\"CA\",\"CB\",\"CC\"]]\n",
    "\n",
    "# Probabilities matrix (transition matrix)\n",
    "transitionMatrix = np.matrix([[0.4,0.4,0.2],\n",
    "                              [0.4,0.4,0.2],\n",
    "                              [0,0,1]])"
   ]
  },
  {
   "cell_type": "code",
   "execution_count": 9,
   "metadata": {},
   "outputs": [
    {
     "name": "stdout",
     "output_type": "stream",
     "text": [
      "The rows all add up to 1.  You should be good to move on.\n"
     ]
    }
   ],
   "source": [
    "# this is error checking to make sure the transition matrix is accurate\n",
    "if np.sum(transitionMatrix) != 3:\n",
    "    print(\"The rows should add up to 1 but do not.  Please fix before you move on.\")\n",
    "else: print(\"The rows all add up to 1.  You should be good to move on.\")"
   ]
  },
  {
   "cell_type": "code",
   "execution_count": 10,
   "metadata": {},
   "outputs": [],
   "source": [
    "# this is the initial distribution across the three states\n",
    "initialState = np.matrix([[100, 100, 100]])"
   ]
  },
  {
   "cell_type": "code",
   "execution_count": 11,
   "metadata": {},
   "outputs": [],
   "source": [
    "# Get the data\n",
    "plot_data = []\n",
    "for step in range(20):\n",
    "    result = initialState * transitionMatrix**step\n",
    "    plot_data.append(np.array(result).flatten())"
   ]
  },
  {
   "cell_type": "code",
   "execution_count": 12,
   "metadata": {},
   "outputs": [
    {
     "data": {
      "image/png": "[encoded data removed]",
      "text/plain": [
       "<Figure size 432x288 with 1 Axes>"
      ]
     },
     "metadata": {
      "needs_background": "light"
     },
     "output_type": "display_data"
    }
   ],
   "source": [
    "# Convert the data format\n",
    "plot_data = np.array(plot_data)\n",
    "\n",
    "# Create the plot\n",
    "pyplot.figure(1)\n",
    "pyplot.xlabel('Steps')\n",
    "pyplot.ylabel('Probability')\n",
    "lines = []\n",
    "for i, shape in zip(range(3), ['x', 'h', 'H', 's', '8', 'r+']):\n",
    "    letter = chr(ord('A') + i)\n",
    "    line, = pyplot.plot(plot_data[:, i], shape, label=letter)\n",
    "#    line, = pyplot.plot(plot_data[:, i], shape, label=\"S%i\" % (i+1))\n",
    "    lines.append(line)\n",
    "pyplot.legend(handles=lines, loc=1)\n",
    "pyplot.show()"
   ]
  },
  {
   "cell_type": "code",
   "execution_count": null,
   "metadata": {},
   "outputs": [],
   "source": []
  }
 ],
 "metadata": {
  "kernelspec": {
   "display_name": "Python 3",
   "language": "python",
   "name": "python3"
  },
  "language_info": {
   "codemirror_mode": {
    "name": "ipython",
    "version": 3
   },
   "file_extension": ".py",
   "mimetype": "text/x-python",
   "name": "python",
   "nbconvert_exporter": "python",
   "pygments_lexer": "ipython3",
   "version": "3.8.3"
  }
 },
 "nbformat": 4,
 "nbformat_minor": 2
}
