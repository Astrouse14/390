{
 "cells": [
  {
   "cell_type": "markdown",
   "metadata": {
    "colab_type": "text",
    "id": "_6bSwff6CJ_q"
   },
   "source": [
    "# This will help us build code to look at system dynamics\n",
    "\n"
   ]
  },
  {
   "cell_type": "code",
   "execution_count": 5,
   "metadata": {
    "colab": {},
    "colab_type": "code",
    "id": "3_bQyh1pCJ_r"
   },
   "outputs": [],
   "source": [
    "# here are the libraries to import\n",
    "import matplotlib.pyplot as plt"
   ]
  },
  {
   "cell_type": "code",
   "execution_count": 6,
   "metadata": {
    "colab": {},
    "colab_type": "code",
    "id": "eIjn9ruXCJ_-"
   },
   "outputs": [],
   "source": [
    "# this code computes the probability distribution function for a given x, mu, variance\n",
    "\n",
    "def probfunction(val, mu, sigsq):\n",
    "  # no code here right now but you will need to add it and return the value that is not null\n",
    "  # the formula for the pdf of a normal distribution is found here:  https://en.wikipedia.org/wiki/Normal_distribution\n",
    "  # basically, it has an exponent that includes and exponent for e in the numerator, which is\n",
    "  # -1 * (((val-mu) ** 2)/ (2* sigsq))\n",
    "  # fyi, the value of e is math.e but be sure to import the math library to use this value\n",
    "  # the denominator of the equation is\n",
    "  # math.sqrt(2 * math.pi * sigsq)\n",
    "  return null"
   ]
  },
  {
   "cell_type": "code",
   "execution_count": 7,
   "metadata": {
    "colab": {},
    "colab_type": "code",
    "id": "jdoNDwMACJ_3"
   },
   "outputs": [],
   "source": [
    "# this is the initial distribution across the three states\n",
    "potential=[50]\n",
    "adopters=[50]\n",
    "\n",
    "for step in range(10):\n",
    "  numinstatea = potential[step]\n",
    "  numinstateb = adopters[step]\n",
    "  percentswitch = 0.20  # instead of this line, you will need call probfunction with the step number, mean, and variance\n",
    "  adopting = numinstatea * percentswitch\n",
    "  potential.append((numinstatea-adopting))\n",
    "  adopters.append((numinstateb+adopting))\n"
   ]
  },
  {
   "cell_type": "code",
   "execution_count": 8,
   "metadata": {
    "colab": {
     "base_uri": "https://localhost:8080/",
     "height": 283
    },
    "colab_type": "code",
    "id": "qtUY-mOCSWtl",
    "outputId": "f8d046fb-2a92-4663-b048-493f51a076f9"
   },
   "outputs": [
    {
     "data": {
      "image/png": "[encoded data removed]",
      "text/plain": [
       "<Figure size 432x288 with 1 Axes>"
      ]
     },
     "metadata": {
      "needs_background": "light"
     },
     "output_type": "display_data"
    }
   ],
   "source": [
    "plt.plot(potential, label=\"potential\")\n",
    "plt.plot(adopters, label=\"adopters\")\n",
    "plt.legend()\n",
    "plt.ylabel('customers')\n",
    "plt.xlabel('years')\n",
    "plt.show()"
   ]
  },
  {
   "cell_type": "code",
   "execution_count": 0,
   "metadata": {
    "colab": {},
    "colab_type": "code",
    "id": "XuRX_oToTxWT"
   },
   "outputs": [],
   "source": []
  }
 ],
 "metadata": {
  "colab": {
   "collapsed_sections": [],
   "name": "assignment.ipynb",
   "provenance": [],
   "version": "0.3.2"
  },
  "kernelspec": {
   "display_name": "Python 3",
   "language": "python",
   "name": "python3"
  },
  "language_info": {
   "codemirror_mode": {
    "name": "ipython",
    "version": 3
   },
   "file_extension": ".py",
   "mimetype": "text/x-python",
   "name": "python",
   "nbconvert_exporter": "python",
   "pygments_lexer": "ipython3",
   "version": "3.8.3"
  }
 },
 "nbformat": 4,
 "nbformat_minor": 1
}
